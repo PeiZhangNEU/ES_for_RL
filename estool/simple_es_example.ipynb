{
 "cells": [
  {
   "cell_type": "markdown",
   "metadata": {},
   "source": [
    "Simple example of using evolution strategies inside `es.py` for toy deterministic fitness function."
   ]
  },
  {
   "cell_type": "code",
   "execution_count": 1,
   "metadata": {
    "collapsed": true
   },
   "outputs": [],
   "source": [
    "import numpy as np\n",
    "import matplotlib.pyplot as plt\n",
    "import cma\n",
    "from es import SimpleGA, CMAES, PEPG, OpenES"
   ]
  },
  {
   "cell_type": "code",
   "execution_count": 2,
   "metadata": {
    "collapsed": true
   },
   "outputs": [],
   "source": [
    "# from https://github.com/CMA-ES/pycma/blob/master/cma/fitness_functions.py\n",
    "def rastrigin(x):\n",
    "  \"\"\"Rastrigin test objective function, shifted by 10. units away from origin\"\"\"\n",
    "  x = np.copy(x)\n",
    "  x -= 10.0\n",
    "  if not np.isscalar(x[0]):\n",
    "    N = len(x[0])\n",
    "    return -np.array([10 * N + sum(xi**2 - 10 * np.cos(2 * np.pi * xi)) for xi in x])\n",
    "  N = len(x)\n",
    "  return -(10 * N + sum(x**2 - 10 * np.cos(2 * np.pi * x)))\n",
    "\n",
    "fit_func = rastrigin"
   ]
  },
  {
   "cell_type": "code",
   "execution_count": 3,
   "metadata": {
    "collapsed": true
   },
   "outputs": [],
   "source": [
    "NPARAMS = 100        # make this a 100-dimensinal problem.\n",
    "NPOPULATION = 101    # use population size of 101.\n",
    "MAX_ITERATION = 4000 # run each solver for 5000 generations."
   ]
  },
  {
   "cell_type": "code",
   "execution_count": 4,
   "metadata": {
    "collapsed": true
   },
   "outputs": [],
   "source": [
    "# defines a function to use solver to solve fit_func\n",
    "def test_solver(solver):\n",
    "  history = []\n",
    "  for j in range(MAX_ITERATION):\n",
    "    solutions = solver.ask()\n",
    "    fitness_list = np.zeros(solver.popsize)\n",
    "    for i in range(solver.popsize):\n",
    "      fitness_list[i] = fit_func(solutions[i])\n",
    "    solver.tell(fitness_list)\n",
    "    result = solver.result() # first element is the best solution, second element is the best fitness\n",
    "    history.append(result[1])\n",
    "    if (j+1) % 100 == 0:\n",
    "      print(\"fitness at iteration\", (j+1), result[1])\n",
    "  print(\"local optimum discovered by solver:\\n\", result[0])\n",
    "  print(\"fitness score at this local optimum:\", result[1])\n",
    "  return history"
   ]
  },
  {
   "cell_type": "code",
   "execution_count": 5,
   "metadata": {},
   "outputs": [
    {
     "name": "stdout",
     "output_type": "stream",
     "text": [
      "This is F(0):\n",
      "-10000.0\n"
     ]
    }
   ],
   "source": [
    "x = np.zeros(NPARAMS) # 100-dimensional problem\n",
    "print(\"This is F(0):\")\n",
    "print(rastrigin(x))"
   ]
  },
  {
   "cell_type": "code",
   "execution_count": 6,
   "metadata": {},
   "outputs": [
    {
     "name": "stdout",
     "output_type": "stream",
     "text": [
      "-0.0\n",
      "global optimum point:\n",
      " [ 10.  10.  10.  10.  10.  10.  10.  10.  10.  10.  10.  10.  10.  10.  10.\n",
      "  10.  10.  10.  10.  10.  10.  10.  10.  10.  10.  10.  10.  10.  10.  10.\n",
      "  10.  10.  10.  10.  10.  10.  10.  10.  10.  10.  10.  10.  10.  10.  10.\n",
      "  10.  10.  10.  10.  10.  10.  10.  10.  10.  10.  10.  10.  10.  10.  10.\n",
      "  10.  10.  10.  10.  10.  10.  10.  10.  10.  10.  10.  10.  10.  10.  10.\n",
      "  10.  10.  10.  10.  10.  10.  10.  10.  10.  10.  10.  10.  10.  10.  10.\n",
      "  10.  10.  10.  10.  10.  10.  10.  10.  10.  10.]\n"
     ]
    }
   ],
   "source": [
    "x = np.ones(NPARAMS)*10. # 100-dimensional problem\n",
    "print(rastrigin(x))\n",
    "print(\"global optimum point:\\n\", x)"
   ]
  },
  {
   "cell_type": "code",
   "execution_count": 7,
   "metadata": {
    "collapsed": true
   },
   "outputs": [],
   "source": [
    "# defines genetic algorithm solver\n",
    "ga = SimpleGA(NPARAMS,                # number of model parameters\n",
    "               sigma_init=0.5,        # initial standard deviation\n",
    "               popsize=NPOPULATION,   # population size\n",
    "               elite_ratio=0.1,       # percentage of the elites\n",
    "               forget_best=False,     # forget the historical best elites\n",
    "               weight_decay=0.00,     # weight decay coefficient\n",
    "              )"
   ]
  },
  {
   "cell_type": "code",
   "execution_count": 8,
   "metadata": {},
   "outputs": [
    {
     "name": "stdout",
     "output_type": "stream",
     "text": [
      "fitness at iteration 100 -1036.18815391\n",
      "fitness at iteration 200 -962.750929017\n",
      "fitness at iteration 300 -962.750929017\n",
      "fitness at iteration 400 -944.312541437\n",
      "fitness at iteration 500 -909.933453992\n",
      "fitness at iteration 600 -909.933453992\n",
      "fitness at iteration 700 -893.492781374\n",
      "fitness at iteration 800 -847.276394564\n",
      "fitness at iteration 900 -822.530487601\n",
      "fitness at iteration 1000 -816.068575727\n",
      "fitness at iteration 1100 -757.914436607\n",
      "fitness at iteration 1200 -756.743642405\n",
      "fitness at iteration 1300 -737.194939136\n",
      "fitness at iteration 1400 -669.635109981\n",
      "fitness at iteration 1500 -597.651842377\n",
      "fitness at iteration 1600 -556.100067028\n",
      "fitness at iteration 1700 -490.610464966\n",
      "fitness at iteration 1800 -430.32082922\n",
      "fitness at iteration 1900 -402.994209632\n",
      "fitness at iteration 2000 -357.754975554\n",
      "fitness at iteration 2100 -302.977914347\n",
      "fitness at iteration 2200 -282.218812242\n",
      "fitness at iteration 2300 -238.905135777\n",
      "fitness at iteration 2400 -214.9762161\n",
      "fitness at iteration 2500 -202.863381605\n",
      "fitness at iteration 2600 -174.626932562\n",
      "fitness at iteration 2700 -174.500678979\n",
      "fitness at iteration 2800 -160.416069702\n",
      "fitness at iteration 2900 -145.986327413\n",
      "fitness at iteration 3000 -138.916611011\n",
      "fitness at iteration 3100 -130.334910877\n",
      "fitness at iteration 3200 -125.519770976\n",
      "fitness at iteration 3300 -118.282630118\n",
      "fitness at iteration 3400 -116.048838185\n",
      "fitness at iteration 3500 -112.934478198\n",
      "fitness at iteration 3600 -109.235361345\n",
      "fitness at iteration 3700 -106.173559004\n",
      "fitness at iteration 3800 -105.8859995\n",
      "fitness at iteration 3900 -104.818781562\n",
      "fitness at iteration 4000 -103.814583253\n",
      "local optimum discovered by solver:\n",
      " [ 10.01209553   9.01509016  11.01604698  10.00300911   9.061334\n",
      "   8.98702831  11.95166073  11.01607094   9.97817286   9.95820219\n",
      "   9.98228446  10.99512654  10.98271433  11.0090183    9.03298139\n",
      "   8.98311497  10.00141858   8.99375921  11.99403531  10.00878936\n",
      "   9.02366306   9.97846782  10.00654921  10.98480012  10.00275409\n",
      "  12.01880101  10.0198695    9.99687924  10.99087445   9.03550846\n",
      "   9.99820034   8.01785632   9.99220969  11.03598232  10.0027113\n",
      "  10.97133239  10.01146143  10.01063237  10.98727746  10.00609573\n",
      "   9.97194124   9.99007091   9.99664894   9.98877969  10.99340794\n",
      "   9.99628157  11.03606995  11.00884105   9.9730509   10.01220666\n",
      "  10.02092141  10.99321941   8.00500867  11.00130757   9.00954732\n",
      "   9.0303191   11.98259728   9.00658003   7.99240389   9.98457064\n",
      "  10.01267774   9.00771583   8.9798318    9.00558015   9.99950302\n",
      "  10.00822899  10.96940821   9.02801607  10.00792468   9.98432287\n",
      "   9.99864254  11.00049334   9.98733364  12.02184174   9.9785207\n",
      "  10.99370579  11.01218586  11.98498625  10.99717286   9.02688303\n",
      "  10.0065722   11.98147783  10.96903442  10.01421967   9.9954499\n",
      "  11.00272605  10.03567554   8.97991184   9.98252155   9.99518626\n",
      "   8.01794008   9.99424683  10.0114551    9.9990701    9.98823664\n",
      "   9.03056057  12.98286612   8.01007095   9.98489048  11.02018319]\n",
      "fitness score at this local optimum: -103.814583253\n"
     ]
    }
   ],
   "source": [
    "ga_history = test_solver(ga)"
   ]
  },
  {
   "cell_type": "code",
   "execution_count": 9,
   "metadata": {},
   "outputs": [
    {
     "name": "stdout",
     "output_type": "stream",
     "text": [
      "(50_w,101)-aCMA-ES (mu_w=27.2,w_1=8%) in dimension 100 (seed=294764, Fri Oct 27 22:06:15 2017)\n"
     ]
    }
   ],
   "source": [
    "# defines CMA-ES algorithm solver\n",
    "cmaes = CMAES(NPARAMS,\n",
    "              popsize=NPOPULATION,\n",
    "              weight_decay=0.0,\n",
    "              sigma_init = 0.5\n",
    "          )"
   ]
  },
  {
   "cell_type": "code",
   "execution_count": 10,
   "metadata": {},
   "outputs": [
    {
     "name": "stdout",
     "output_type": "stream",
     "text": [
      "fitness at iteration 100 -1003.9909974159419\n",
      "fitness at iteration 200 -802.8268305857051\n",
      "fitness at iteration 300 -60.280708828513866\n",
      "fitness at iteration 400 -53.73079723380158\n",
      "fitness at iteration 500 -53.727776804587734\n",
      "fitness at iteration 600 -53.72777397149821\n",
      "fitness at iteration 700 -53.72777396958156\n",
      "fitness at iteration 800 -53.72777396958077\n",
      "fitness at iteration 900 -53.72777396958065\n",
      "fitness at iteration 1000 -53.72777396958065\n",
      "fitness at iteration 1100 -53.72777396958065\n",
      "fitness at iteration 1200 -53.72777396958065\n",
      "fitness at iteration 1300 -53.72777396958065\n",
      "fitness at iteration 1400 -53.72777396958065\n",
      "fitness at iteration 1500 -53.72777396958065\n",
      "fitness at iteration 1600 -53.72777396958065\n",
      "fitness at iteration 1700 -53.72777396958065\n",
      "fitness at iteration 1800 -53.72777396958065\n",
      "fitness at iteration 1900 -53.72777396958065\n",
      "fitness at iteration 2000 -53.72777396958065\n",
      "fitness at iteration 2100 -53.72777396958065\n",
      "fitness at iteration 2200 -53.72777396958065\n",
      "fitness at iteration 2300 -53.72777396958065\n",
      "fitness at iteration 2400 -53.72777396958065\n",
      "fitness at iteration 2500 -53.72777396958065\n",
      "fitness at iteration 2600 -53.72777396958065\n",
      "fitness at iteration 2700 -53.72777396958065\n",
      "fitness at iteration 2800 -53.72777396958065\n",
      "fitness at iteration 2900 -53.72777396958065\n",
      "fitness at iteration 3000 -53.72777396958065\n",
      "fitness at iteration 3100 -53.72777396958065\n",
      "fitness at iteration 3200 -53.72777396958065\n",
      "fitness at iteration 3300 -53.72777396958065\n",
      "fitness at iteration 3400 -53.72777396958065\n",
      "fitness at iteration 3500 -53.72777396958065\n",
      "fitness at iteration 3600 -53.72777396958065\n",
      "fitness at iteration 3700 -53.72777396958065\n",
      "fitness at iteration 3800 -53.72777396958065\n",
      "fitness at iteration 3900 -53.72777396958065\n",
      "fitness at iteration 4000 -53.72777396958065\n",
      "local optimum discovered by solver:\n",
      " [ 10.          10.          10.          10.          10.          10.99495864\n",
      "  10.99495864   8.01008777  10.99495864   9.00504136  10.          10.          10.\n",
      "   9.00504136  10.           9.00504136  10.          10.99495864\n",
      "   8.01008776  10.99495864  10.99495864  10.           9.00504137\n",
      "  10.99495863  10.99495864   9.00504136  10.           9.00504136\n",
      "  10.99495863  10.          10.99495863   8.01008776  10.99495863  10.          10.\n",
      "  10.99495863   9.00504137  10.99495863   9.99999999  10.          10.          10.\n",
      "  10.          10.          10.          10.99495864  10.          10.\n",
      "   9.00504137   9.00504137  10.           9.00504136  10.99495863\n",
      "  10.99495864  10.00000001   9.00504136  10.           9.00504136  10.          10.\n",
      "  10.           9.99999999  10.          10.           9.99999999  10.\n",
      "   9.00504137  10.          10.           9.00504136   9.00504137  10.\n",
      "   9.00504137   9.99999999  10.           9.00504136   9.00504136\n",
      "  10.00000001  10.          10.           9.00504136  10.99495864  10.\n",
      "  10.99495864  10.          10.00000001  10.00000001  10.           9.00504136\n",
      "  10.99495863   9.00504136  10.99495865  10.          10.          10.00000001\n",
      "   9.99999999  10.          10.99495864   9.99999999  10.        ]\n",
      "fitness score at this local optimum: -53.72777396958065\n"
     ]
    }
   ],
   "source": [
    "cma_history = test_solver(cmaes)"
   ]
  },
  {
   "cell_type": "code",
   "execution_count": 11,
   "metadata": {
    "collapsed": true
   },
   "outputs": [],
   "source": [
    "# defines PEPG (NES) solver\n",
    "pepg = PEPG(NPARAMS,                         # number of model parameters\n",
    "            sigma_init=0.5,                  # initial standard deviation\n",
    "            learning_rate=0.1,               # learning rate for standard deviation\n",
    "            learning_rate_decay=1.0,       # don't anneal the learning rate\n",
    "            popsize=NPOPULATION,             # population size\n",
    "            average_baseline=False,          # set baseline to average of batch\n",
    "            weight_decay=0.00,            # weight decay coefficient\n",
    "            rank_fitness=False,           # use rank rather than fitness numbers\n",
    "            forget_best=False)            # don't keep the historical best solution)"
   ]
  },
  {
   "cell_type": "code",
   "execution_count": 12,
   "metadata": {},
   "outputs": [
    {
     "name": "stdout",
     "output_type": "stream",
     "text": [
      "fitness at iteration 100 -3482.30049548\n",
      "fitness at iteration 200 -1215.62711801\n",
      "fitness at iteration 300 -1014.35553247\n",
      "fitness at iteration 400 -840.840116567\n",
      "fitness at iteration 500 -582.386649983\n",
      "fitness at iteration 600 -509.385694731\n",
      "fitness at iteration 700 -404.468334299\n",
      "fitness at iteration 800 -313.573588111\n",
      "fitness at iteration 900 -244.920559452\n",
      "fitness at iteration 1000 -235.935310401\n",
      "fitness at iteration 1100 -194.458783201\n",
      "fitness at iteration 1200 -188.043949542\n",
      "fitness at iteration 1300 -177.358212286\n",
      "fitness at iteration 1400 -157.961122559\n",
      "fitness at iteration 1500 -148.432787366\n",
      "fitness at iteration 1600 -147.906864698\n",
      "fitness at iteration 1700 -147.646836414\n",
      "fitness at iteration 1800 -146.981120947\n",
      "fitness at iteration 1900 -146.232726494\n",
      "fitness at iteration 2000 -145.433034842\n",
      "fitness at iteration 2100 -144.883851998\n",
      "fitness at iteration 2200 -144.242868383\n",
      "fitness at iteration 2300 -143.861838722\n",
      "fitness at iteration 2400 -143.520472457\n",
      "fitness at iteration 2500 -143.14977198\n",
      "fitness at iteration 2600 -142.836007571\n",
      "fitness at iteration 2700 -142.530684954\n",
      "fitness at iteration 2800 -142.29354435\n",
      "fitness at iteration 2900 -142.050777564\n",
      "fitness at iteration 3000 -141.780750359\n",
      "fitness at iteration 3100 -141.606938501\n",
      "fitness at iteration 3200 -141.441480063\n",
      "fitness at iteration 3300 -141.260356108\n",
      "fitness at iteration 3400 -141.043178982\n",
      "fitness at iteration 3500 -140.907730939\n",
      "fitness at iteration 3600 -140.722862914\n",
      "fitness at iteration 3700 -140.634265016\n",
      "fitness at iteration 3800 -140.505978003\n",
      "fitness at iteration 3900 -140.333494598\n",
      "fitness at iteration 4000 -140.202767356\n",
      "local optimum discovered by solver:\n",
      " [  9.99802252  11.99578261  10.99265254   9.99200471  11.00718401\n",
      "  10.99694602  11.02315368   7.98876532   9.99550161  10.99082692\n",
      "  10.01112403   9.99662679   9.00704447  10.98920618   9.99383338\n",
      "  11.00696799  10.98689792  10.99333369  11.01858353  11.98758585\n",
      "  11.98966914  10.96525555  11.98754454  11.98389003  10.98698828\n",
      "  10.00390114  10.97373631  10.98695865   9.99608839   8.99729617\n",
      "  11.00079852  10.99080217  10.01199195   8.98741634  10.99010199\n",
      "  11.00221851  10.99946963  10.99404534   8.00731344   9.87975861\n",
      "  11.00336743  10.00064508  11.00357138   9.99895966   8.01145228\n",
      "  10.00044605  10.99399689  12.00097029  11.99361919   9.98605789\n",
      "  10.99572524   8.00625176  10.99917351  10.00467889  11.00346289\n",
      "   8.01152751   9.0179807   10.99663196   9.99473101   9.99431358\n",
      "  10.98653368  11.00516276   9.00566385  10.97384924  10.98018001\n",
      "  11.00913452  10.03502366  10.97896687  10.01118683  10.00486459\n",
      "   8.98769084  10.99098292  10.01140909  11.01392546  10.99509621\n",
      "  11.98703781  10.99806363  11.00990018   9.99231633   9.97782326\n",
      "   9.98521271  11.00579636  11.99309358  10.01267744  11.98859687\n",
      "  10.98959491  10.00359011  11.99294721   7.01757281   8.01495314\n",
      "  10.00721565  10.9957131   10.00515677  10.98237558  10.01174783\n",
      "  10.91841461  11.92372658  11.99479332  10.00897241  10.00042412]\n",
      "fitness score at this local optimum: -140.202767356\n"
     ]
    }
   ],
   "source": [
    "pepg_history = test_solver(pepg)"
   ]
  },
  {
   "cell_type": "code",
   "execution_count": 13,
   "metadata": {
    "collapsed": true
   },
   "outputs": [],
   "source": [
    "# defines OpenAI's ES algorithm solver. Note that we needed to anneal the sigma parameter\n",
    "oes = OpenES(NPARAMS,                  # number of model parameters\n",
    "            sigma_init=0.5,            # initial standard deviation\n",
    "            sigma_decay=0.999,         # don't anneal standard deviation\n",
    "            learning_rate=0.1,         # learning rate for standard deviation\n",
    "            learning_rate_decay = 1.0, # annealing the learning rate\n",
    "            popsize=NPOPULATION,       # population size\n",
    "            antithetic=False,          # whether to use antithetic sampling\n",
    "            weight_decay=0.00,         # weight decay coefficient\n",
    "            rank_fitness=False,        # use rank rather than fitness numbers\n",
    "            forget_best=False)"
   ]
  },
  {
   "cell_type": "code",
   "execution_count": 14,
   "metadata": {},
   "outputs": [
    {
     "name": "stdout",
     "output_type": "stream",
     "text": [
      "fitness at iteration 100 -2641.27059538\n",
      "fitness at iteration 200 -818.609194089\n",
      "fitness at iteration 300 -791.422644092\n",
      "fitness at iteration 400 -791.422644092\n",
      "fitness at iteration 500 -791.422644092\n",
      "fitness at iteration 600 -762.048343376\n",
      "fitness at iteration 700 -699.670967536\n",
      "fitness at iteration 800 -609.804677666\n",
      "fitness at iteration 900 -604.206186473\n",
      "fitness at iteration 1000 -509.130992244\n",
      "fitness at iteration 1100 -464.057711998\n",
      "fitness at iteration 1200 -434.564574858\n",
      "fitness at iteration 1300 -387.78044898\n",
      "fitness at iteration 1400 -357.665063099\n",
      "fitness at iteration 1500 -326.799487921\n",
      "fitness at iteration 1600 -278.820200448\n",
      "fitness at iteration 1700 -278.820200448\n",
      "fitness at iteration 1800 -262.555839987\n",
      "fitness at iteration 1900 -250.11893072\n",
      "fitness at iteration 2000 -228.462648917\n",
      "fitness at iteration 2100 -213.853243918\n",
      "fitness at iteration 2200 -213.853243918\n",
      "fitness at iteration 2300 -203.000512951\n",
      "fitness at iteration 2400 -203.000512951\n",
      "fitness at iteration 2500 -181.597266822\n",
      "fitness at iteration 2600 -168.929031388\n",
      "fitness at iteration 2700 -168.929031388\n",
      "fitness at iteration 2800 -168.929031388\n",
      "fitness at iteration 2900 -168.929031388\n",
      "fitness at iteration 3000 -161.460886021\n",
      "fitness at iteration 3100 -161.460886021\n",
      "fitness at iteration 3200 -161.460886021\n",
      "fitness at iteration 3300 -161.329017245\n",
      "fitness at iteration 3400 -158.930871877\n",
      "fitness at iteration 3500 -158.930871877\n",
      "fitness at iteration 3600 -158.930871877\n",
      "fitness at iteration 3700 -158.930871877\n",
      "fitness at iteration 3800 -158.930871877\n",
      "fitness at iteration 3900 -158.930871877\n",
      "fitness at iteration 4000 -158.930871877\n",
      "local optimum discovered by solver:\n",
      " [ 11.02152268  11.08203512   9.9621727   10.01202666  10.05802892\n",
      "   9.96539698  11.99645577  10.05931203  11.06654809  10.1001855\n",
      "   9.99001896   9.99038435  10.95269082   9.02091175  11.05602525\n",
      "  10.03561896   9.99802995   9.04456096  10.93586927  10.95267287\n",
      "  10.00121327   9.00697976  10.0779322   10.97380693  11.91654452\n",
      "   9.8728909    9.98597733  10.96384097   9.00576987  12.01040593\n",
      "  10.99913181  11.05909915  10.03870028  10.11097214  10.99655974\n",
      "  10.90845951  10.02108977   9.98025762   9.01537097   9.0150588\n",
      "  12.00315427   9.97952731  13.01465267  11.98801575  11.02797239\n",
      "   9.9893546   11.01994139   9.93901871   9.98241681   9.06994201\n",
      "  11.02326511  10.97494218   8.97493252  10.0138471   12.02653073\n",
      "  12.03694901   9.9584052   11.0198227    9.98662791  11.98879057\n",
      "  11.02808514  11.00887295   9.99660149   8.94129233  11.00134904\n",
      "  10.92056291  10.01040363   9.980977    12.14211244  10.07433635\n",
      "  10.01371967  10.00510512  11.06233232   8.98795382  12.89905864\n",
      "  10.97444671  12.01704987  12.00413215  11.93046799   9.99341701\n",
      "  11.03959637   9.95837744  11.02100635  10.07250106  10.95647068\n",
      "  10.98916498  10.93004463  11.04293392   9.95708097   9.98236692\n",
      "  10.91765003  11.04978985  11.02084705  11.00335613   8.95286543\n",
      "  10.9649267    9.97912145  12.02375335  11.05587559   9.98020644]\n",
      "fitness score at this local optimum: -158.930871877\n"
     ]
    }
   ],
   "source": [
    "oes_history = test_solver(oes)"
   ]
  },
  {
   "cell_type": "code",
   "execution_count": 15,
   "metadata": {
    "collapsed": true
   },
   "outputs": [],
   "source": [
    "# defines OpenAI's ES algorithm solver. Note that we needed to anneal the sigma parameter\n",
    "# this version turns on antithetic sampling. It doesn't really help, and sometimes hurts performance.\n",
    "oes_antithetic = OpenES(NPARAMS,            # number of model parameters\n",
    "                 sigma_init=0.5,            # initial standard deviation\n",
    "                 sigma_decay=0.999,         # don't anneal standard deviation\n",
    "                 learning_rate=0.1,         # learning rate for standard deviation\n",
    "                 learning_rate_decay=1.0,   # annealing the learning rate\n",
    "                 popsize=NPOPULATION+1,     # population size\n",
    "                 antithetic=True,           # whether to use antithetic sampling\n",
    "                 weight_decay=0.00,         # weight decay coefficient\n",
    "                 rank_fitness=False,        # use rank rather than fitness numbers\n",
    "                 forget_best=False)"
   ]
  },
  {
   "cell_type": "code",
   "execution_count": 16,
   "metadata": {},
   "outputs": [
    {
     "name": "stdout",
     "output_type": "stream",
     "text": [
      "fitness at iteration 100 -3284.87173078\n",
      "fitness at iteration 200 -923.715344616\n",
      "fitness at iteration 300 -797.335204693\n",
      "fitness at iteration 400 -797.335204693\n",
      "fitness at iteration 500 -773.155002288\n",
      "fitness at iteration 600 -743.395082871\n",
      "fitness at iteration 700 -645.367987242\n",
      "fitness at iteration 800 -610.398261611\n",
      "fitness at iteration 900 -560.774520676\n",
      "fitness at iteration 1000 -471.082353647\n",
      "fitness at iteration 1100 -442.845407864\n",
      "fitness at iteration 1200 -419.21140859\n",
      "fitness at iteration 1300 -355.097294683\n",
      "fitness at iteration 1400 -333.788721141\n",
      "fitness at iteration 1500 -317.233882565\n",
      "fitness at iteration 1600 -287.983445233\n",
      "fitness at iteration 1700 -245.24420211\n",
      "fitness at iteration 1800 -224.091432669\n",
      "fitness at iteration 1900 -224.091432669\n",
      "fitness at iteration 2000 -209.192447219\n",
      "fitness at iteration 2100 -209.192447219\n",
      "fitness at iteration 2200 -209.192447219\n",
      "fitness at iteration 2300 -209.192447219\n",
      "fitness at iteration 2400 -209.192447219\n",
      "fitness at iteration 2500 -209.192447219\n",
      "fitness at iteration 2600 -186.691132758\n",
      "fitness at iteration 2700 -179.353040861\n",
      "fitness at iteration 2800 -179.353040861\n",
      "fitness at iteration 2900 -179.353040861\n",
      "fitness at iteration 3000 -179.353040861\n",
      "fitness at iteration 3100 -179.353040861\n",
      "fitness at iteration 3200 -179.353040861\n",
      "fitness at iteration 3300 -179.353040861\n",
      "fitness at iteration 3400 -179.353040861\n",
      "fitness at iteration 3500 -179.353040861\n",
      "fitness at iteration 3600 -179.353040861\n",
      "fitness at iteration 3700 -179.353040861\n",
      "fitness at iteration 3800 -179.353040861\n",
      "fitness at iteration 3900 -179.353040861\n",
      "fitness at iteration 4000 -179.353040861\n",
      "local optimum discovered by solver:\n",
      " [ 11.0198253   10.0511205    7.97839632  10.0122798   11.06896627\n",
      "  10.01515084  10.94556415  12.11272025  10.00747084  11.00754918\n",
      "  12.04416304  10.01613505   9.99738458  10.10925865   9.93091563\n",
      "   9.98645957  11.0040246   10.08925163  11.84982197  11.02071191\n",
      "  10.03620864  10.9372272   10.10971941  10.0672667   10.05645023\n",
      "  10.05419733   9.02408533  11.03021979  10.10097847  10.07558915\n",
      "  11.01053307  11.00975816  11.93424804  10.96062167  11.1239153\n",
      "  11.02796012  11.06691409  11.072285    11.90705858  10.02036635\n",
      "   9.85395221   9.98469435   8.98881208  11.06399621  11.19501843\n",
      "  10.06992186  11.06130242  10.95222404  10.95560904   9.92810565\n",
      "   9.95983426  11.01400323   9.98564393  11.0703268   10.94880322\n",
      "  10.87142352   9.96842442  10.05075667   9.99174911   9.89706746\n",
      "  11.03934406  10.91087196  10.14722295   9.9286909   10.99849102\n",
      "   9.93208762   9.96093877  10.94704016  10.00642118   9.99470303\n",
      "  12.10446612   9.96192647  10.97418296  12.0593315   10.05808743\n",
      "  10.98646871  11.01294525  11.05319081  10.04155792   9.85957519\n",
      "   9.99115029  11.02971322  10.95926584  10.82465099  10.97860804\n",
      "   9.90974912  11.07173426  12.06008592  12.02829293   9.97809257\n",
      "  10.93115874  10.88786654  11.04055315  10.12887571  10.95547292\n",
      "  11.02105487  11.0550061    8.98237257  10.04579674  11.99068439]\n",
      "fitness score at this local optimum: -179.353040861\n"
     ]
    }
   ],
   "source": [
    "oes_antithetic_history = test_solver(oes_antithetic)"
   ]
  },
  {
   "cell_type": "code",
   "execution_count": 28,
   "metadata": {},
   "outputs": [
    {
     "data": {
      "image/png": "[encoded data removed]",
      "text/plain": [
       "<matplotlib.figure.Figure at 0x10d6bb198>"
      ]
     },
     "metadata": {},
     "output_type": "display_data"
    }
   ],
   "source": [
    "# Create a new figure of size 8x6 points, using 100 dots per inch\n",
    "best_history = [0] * MAX_ITERATION\n",
    "plt.figure(figsize=(16,8), dpi=150)\n",
    "\n",
    "optimum_line, = plt.plot(best_history, color=\"black\", linewidth=0.5, linestyle=\"-.\", label='Global Optimum')\n",
    "ga_line, = plt.plot(ga_history, color=\"green\", linewidth=1.0, linestyle=\"-\", label='GA')\n",
    "oes_line, = plt.plot(oes_history, color=\"orange\", linewidth=1.0, linestyle=\"-\", label='OpenAI-ES')\n",
    "pepg_line, = plt.plot(pepg_history, color=\"blue\", linewidth=1.0, linestyle=\"-\", label='PEPG / NES')\n",
    "cma_line, = plt.plot(cma_history, color=\"red\", linewidth=1.0, linestyle=\"-\", label='CMA-ES')\n",
    "\n",
    "plt.legend(handles=[optimum_line, ga_line, cma_line, pepg_line, oes_line], loc=4)\n",
    "\n",
    "# Set x limits\n",
    "plt.xlim(0,2500)\n",
    "\n",
    "plt.xlabel('generation')\n",
    "plt.ylabel('fitness')\n",
    "\n",
    "# plt.savefig(\"./rastrigin_10d.svg\")\n",
    "\n",
    "plt.show()"
   ]
  },
  {
   "cell_type": "code",
   "execution_count": null,
   "metadata": {
    "collapsed": true
   },
   "outputs": [],
   "source": []
  }
 ],
 "metadata": {
  "kernelspec": {
   "display_name": "Python 3",
   "language": "python",
   "name": "python3"
  },
  "language_info": {
   "codemirror_mode": {
    "name": "ipython",
    "version": 3
   },
   "file_extension": ".py",
   "mimetype": "text/x-python",
   "name": "python",
   "nbconvert_exporter": "python",
   "pygments_lexer": "ipython3",
   "version": "3.6.1"
  }
 },
 "nbformat": 4,
 "nbformat_minor": 2
}
